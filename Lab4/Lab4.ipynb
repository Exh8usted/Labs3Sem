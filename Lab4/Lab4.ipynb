{
 "cells": [
  {
   "cell_type": "markdown",
   "id": "e1add43c-ba29-4b56-9965-16695531af8e",
   "metadata": {},
   "source": [
    "Установка необходимых библиотек (если не установлены)"
   ]
  },
  {
   "cell_type": "code",
   "execution_count": 1,
   "id": "563b9b63-7d98-46fb-bcbd-598c2c100a39",
   "metadata": {},
   "outputs": [
    {
     "name": "stdout",
     "output_type": "stream",
     "text": [
      "Defaulting to user installation because normal site-packages is not writeable\n",
      "Requirement already satisfied: scikit-learn in /home/ataev/.local/lib/python3.10/site-packages (1.3.1)\n",
      "Collecting scikit-learn\n",
      "  Obtaining dependency information for scikit-learn from https://files.pythonhosted.org/packages/d0/0b/26ad95cf0b747be967b15fb71a06f5ac67aba0fd2f9cd174de6edefc4674/scikit_learn-1.3.2-cp310-cp310-manylinux_2_17_x86_64.manylinux2014_x86_64.whl.metadata\n",
      "  Downloading scikit_learn-1.3.2-cp310-cp310-manylinux_2_17_x86_64.manylinux2014_x86_64.whl.metadata (11 kB)\n",
      "Requirement already satisfied: numpy<2.0,>=1.17.3 in /home/ataev/.local/lib/python3.10/site-packages (from scikit-learn) (1.26.0)\n",
      "Requirement already satisfied: scipy>=1.5.0 in /home/ataev/.local/lib/python3.10/site-packages (from scikit-learn) (1.11.3)\n",
      "Requirement already satisfied: joblib>=1.1.1 in /home/ataev/.local/lib/python3.10/site-packages (from scikit-learn) (1.3.2)\n",
      "Requirement already satisfied: threadpoolctl>=2.0.0 in /home/ataev/.local/lib/python3.10/site-packages (from scikit-learn) (3.2.0)\n",
      "Downloading scikit_learn-1.3.2-cp310-cp310-manylinux_2_17_x86_64.manylinux2014_x86_64.whl (10.8 MB)\n",
      "\u001b[2K   \u001b[38;2;114;156;31m━━━━━━━━━━━━━━━━━━━━━━━━━━━━━━━━━━━━━━━━\u001b[0m \u001b[32m10.8/10.8 MB\u001b[0m \u001b[31m664.7 kB/s\u001b[0m eta \u001b[36m0:00:00\u001b[0mm eta \u001b[36m0:00:01\u001b[0m[36m0:00:01\u001b[0m\n",
      "\u001b[?25hInstalling collected packages: scikit-learn\n",
      "  Attempting uninstall: scikit-learn\n",
      "    Found existing installation: scikit-learn 1.3.1\n",
      "    Uninstalling scikit-learn-1.3.1:\n",
      "      Successfully uninstalled scikit-learn-1.3.1\n",
      "Successfully installed scikit-learn-1.3.2\n",
      "\n",
      "\u001b[1m[\u001b[0m\u001b[34;49mnotice\u001b[0m\u001b[1;39;49m]\u001b[0m\u001b[39;49m A new release of pip is available: \u001b[0m\u001b[31;49m23.2.1\u001b[0m\u001b[39;49m -> \u001b[0m\u001b[32;49m23.3.1\u001b[0m\n",
      "\u001b[1m[\u001b[0m\u001b[34;49mnotice\u001b[0m\u001b[1;39;49m]\u001b[0m\u001b[39;49m To update, run: \u001b[0m\u001b[32;49mpython3 -m pip install --upgrade pip\u001b[0m\n",
      "Defaulting to user installation because normal site-packages is not writeable\n",
      "Requirement already satisfied: pandas in /home/ataev/.local/lib/python3.10/site-packages (2.1.1)\n",
      "Requirement already satisfied: numpy>=1.22.4 in /home/ataev/.local/lib/python3.10/site-packages (from pandas) (1.26.0)\n",
      "Requirement already satisfied: python-dateutil>=2.8.2 in /usr/local/lib/python3.10/dist-packages (from pandas) (2.8.2)\n",
      "Requirement already satisfied: pytz>=2020.1 in /usr/lib/python3/dist-packages (from pandas) (2022.1)\n",
      "Requirement already satisfied: tzdata>=2022.1 in /home/ataev/.local/lib/python3.10/site-packages (from pandas) (2023.3)\n",
      "Requirement already satisfied: six>=1.5 in /usr/lib/python3/dist-packages (from python-dateutil>=2.8.2->pandas) (1.16.0)\n",
      "\n",
      "\u001b[1m[\u001b[0m\u001b[34;49mnotice\u001b[0m\u001b[1;39;49m]\u001b[0m\u001b[39;49m A new release of pip is available: \u001b[0m\u001b[31;49m23.2.1\u001b[0m\u001b[39;49m -> \u001b[0m\u001b[32;49m23.3.1\u001b[0m\n",
      "\u001b[1m[\u001b[0m\u001b[34;49mnotice\u001b[0m\u001b[1;39;49m]\u001b[0m\u001b[39;49m To update, run: \u001b[0m\u001b[32;49mpython3 -m pip install --upgrade pip\u001b[0m\n",
      "Defaulting to user installation because normal site-packages is not writeable\n",
      "Requirement already satisfied: matplotlib in /home/ataev/.local/lib/python3.10/site-packages (3.8.0)\n",
      "Requirement already satisfied: contourpy>=1.0.1 in /home/ataev/.local/lib/python3.10/site-packages (from matplotlib) (1.1.1)\n",
      "Requirement already satisfied: cycler>=0.10 in /home/ataev/.local/lib/python3.10/site-packages (from matplotlib) (0.11.0)\n",
      "Requirement already satisfied: fonttools>=4.22.0 in /home/ataev/.local/lib/python3.10/site-packages (from matplotlib) (4.42.1)\n",
      "Requirement already satisfied: kiwisolver>=1.0.1 in /home/ataev/.local/lib/python3.10/site-packages (from matplotlib) (1.4.5)\n",
      "Requirement already satisfied: numpy<2,>=1.21 in /home/ataev/.local/lib/python3.10/site-packages (from matplotlib) (1.26.0)\n",
      "Requirement already satisfied: packaging>=20.0 in /usr/local/lib/python3.10/dist-packages (from matplotlib) (21.3)\n",
      "Requirement already satisfied: pillow>=6.2.0 in /usr/lib/python3/dist-packages (from matplotlib) (9.0.1)\n",
      "Requirement already satisfied: pyparsing>=2.3.1 in /usr/lib/python3/dist-packages (from matplotlib) (2.4.7)\n",
      "Requirement already satisfied: python-dateutil>=2.7 in /usr/local/lib/python3.10/dist-packages (from matplotlib) (2.8.2)\n",
      "Requirement already satisfied: six>=1.5 in /usr/lib/python3/dist-packages (from python-dateutil>=2.7->matplotlib) (1.16.0)\n",
      "\n",
      "\u001b[1m[\u001b[0m\u001b[34;49mnotice\u001b[0m\u001b[1;39;49m]\u001b[0m\u001b[39;49m A new release of pip is available: \u001b[0m\u001b[31;49m23.2.1\u001b[0m\u001b[39;49m -> \u001b[0m\u001b[32;49m23.3.1\u001b[0m\n",
      "\u001b[1m[\u001b[0m\u001b[34;49mnotice\u001b[0m\u001b[1;39;49m]\u001b[0m\u001b[39;49m To update, run: \u001b[0m\u001b[32;49mpython3 -m pip install --upgrade pip\u001b[0m\n",
      "\n",
      "Установка успешна\n"
     ]
    }
   ],
   "source": [
    "!pip install -U scikit-learn\n",
    "!pip install pandas\n",
    "!pip install matplotlib\n",
    "\n",
    "print(\"\\nУстановка успешна\")"
   ]
  },
  {
   "cell_type": "markdown",
   "id": "94f16856-37ff-4cc7-91aa-821a8d7dd9f6",
   "metadata": {},
   "source": [
    "Считывание файла"
   ]
  },
  {
   "cell_type": "code",
   "execution_count": 1,
   "id": "19359d3b-fdbb-46cc-9f06-db4378af609c",
   "metadata": {},
   "outputs": [
    {
     "name": "stdout",
     "output_type": "stream",
     "text": [
      "      year                          region  npg  birth_rate  death_rate  \\\n",
      "0     1990              Republic of Adygea  1.9        14.2        12.3   \n",
      "1     1990                      Altai Krai  1.8        12.9        11.1   \n",
      "2     1990                     Amur Oblast  7.6        16.2         8.6   \n",
      "3     1990              Arkhangelsk Oblast  3.7        13.5         9.8   \n",
      "4     1990                Astrakhan Oblast  4.7        15.1        10.4   \n",
      "...    ...                             ...  ...         ...         ...   \n",
      "2375  2017                Chuvash Republic -1.3        11.3        12.6   \n",
      "2376  2017       Chukotka Autonomous Okrug  3.7        13.1         9.4   \n",
      "2377  2017        Sakha (Yakutia) Republic  6.4        14.5         8.1   \n",
      "2378  2017  Yamalo-Nenets Autonomous Okrug  9.1        14.0         4.9   \n",
      "2379  2017                Yaroslavl Oblast -4.7        10.5        15.2   \n",
      "\n",
      "        gdw  urbanization  \n",
      "0     84.66         52.42  \n",
      "1     80.24         58.07  \n",
      "2     69.55         68.37  \n",
      "3     73.26         73.63  \n",
      "4     77.05         68.01  \n",
      "...     ...           ...  \n",
      "2375  76.63         62.00  \n",
      "2376  58.23         70.00  \n",
      "2377  70.10         65.50  \n",
      "2378  53.57         83.70  \n",
      "2379  82.61         81.70  \n",
      "\n",
      "[2380 rows x 7 columns]\n"
     ]
    }
   ],
   "source": [
    "import pandas\n",
    "import os\n",
    "\n",
    "file_path = \"russian_demography.csv\"\n",
    "ram_capacity = 2**20\n",
    "\n",
    "if file_path.endswith('.csv') and os.path.isfile(file_path) and os.path.getsize(file_path) <= ram_capacity:\n",
    "    demography_data = pandas.read_csv(file_path)\n",
    "    print(demography_data)\n",
    "else:\n",
    "    print(\"НЕТ ТАКОГО ФАЙЛА\")"
   ]
  },
  {
   "cell_type": "markdown",
   "id": "75c7caf8-e2db-4f6e-bc60-dac10028b9e4",
   "metadata": {},
   "source": [
    "Рассчет данных по региону"
   ]
  },
  {
   "cell_type": "code",
   "execution_count": 19,
   "id": "db198f76-5264-43e7-8fd6-a6c91fc40fb9",
   "metadata": {
    "scrolled": false
   },
   "outputs": [
    {
     "name": "stdout",
     "output_type": "stream",
     "text": [
      "\n",
      "Данные, по которым будет производиться расчет: \n",
      "      year      region  npg  birth_rate  death_rate    gdw  urbanization\n",
      "1     1990  Altai Krai  1.8        12.9        11.1  80.24         58.07\n",
      "86    1991  Altai Krai  0.4        11.7        11.3  79.95         58.08\n",
      "171   1992  Altai Krai -1.4        10.4        11.8  79.55         55.21\n",
      "256   1993  Altai Krai -4.9         9.1        14.0  79.16         52.26\n",
      "341   1994  Altai Krai -5.9         9.2        15.1  78.21         52.06\n",
      "426   1995  Altai Krai -6.0         8.7        14.7  77.15         51.97\n",
      "511   1996  Altai Krai -5.9         8.4        14.3  76.16         52.45\n",
      "596   1997  Altai Krai -5.4         8.4        13.8  74.68         52.55\n",
      "681   1998  Altai Krai -4.0         8.8        12.8  72.67         52.76\n",
      "766   1999  Altai Krai -5.1         8.7        13.8  70.13         52.89\n",
      "851   2000  Altai Krai -5.0         9.3        14.3  67.35         52.77\n",
      "936   2001  Altai Krai -5.1         9.6        14.7  64.85         52.80\n",
      "1021  2002  Altai Krai -5.4        10.3        15.7  62.97         53.06\n",
      "1106  2003  Altai Krai -5.1        10.8        15.9  60.95         53.23\n",
      "1191  2004  Altai Krai -5.0        10.8        15.9  59.37         53.50\n",
      "1276  2005  Altai Krai -6.4        10.3        16.9  58.45         53.70\n",
      "1361  2006  Altai Krai -5.1        10.1        15.5  58.08         54.00\n",
      "1446  2007  Altai Krai -3.6        11.3        15.2  58.30         54.20\n",
      "1531  2008  Altai Krai -2.7        12.3        15.3  59.15         54.30\n",
      "1616  2009  Altai Krai -1.9        12.4        14.7  60.59         54.50\n",
      "1701  2010  Altai Krai -2.3        12.7        15.0  62.72         54.30\n",
      "1786  2011  Altai Krai -1.9        12.7        14.6  65.04         54.80\n",
      "1871  2012  Altai Krai -0.9        13.7        14.6  67.80         55.20\n",
      "1956  2013  Altai Krai -0.8        13.4        14.2  70.87         55.50\n",
      "2041  2014  Altai Krai -1.0        13.2        14.2  74.16         55.80\n",
      "2126  2015  Altai Krai -1.5        12.6        14.1  77.33         56.00\n",
      "2211  2016  Altai Krai -2.0        12.1        14.1  80.68         56.20\n",
      "2296  2017  Altai Krai -3.2        10.8        14.0  83.61         56.30\n"
     ]
    }
   ],
   "source": [
    "from sklearn.linear_model import LinearRegression\n",
    "from sklearn.metrics import mean_squared_error\n",
    "from sklearn.model_selection import train_test_split\n",
    "\n",
    "headers = demography_data.columns.tolist()\n",
    "regions = set(demography_data.region.tolist())\n",
    "\n",
    "# chosen_column = input(f\"Введите колонку, по которой будут производиться расчеты: {headers}\\n\")\n",
    "# chosen_country = input(f\"Введите код региона, по которому будут производиться расчеты: {regions}\\n\")\n",
    "# prediction_year = int(input(\"Введите год для предсказания: \\n\"))\n",
    "\n",
    "chosen_column = 'npg'\n",
    "chosen_country = 'Altai Krai'\n",
    "prediction_year = 2023\n",
    "\n",
    "if chosen_column not in headers or chosen_column == 'region' or chosen_column == 'year':\n",
    "    print(\"Колонка выбрана неправильно, попробуйте еще раз\")\n",
    "elif chosen_country not in regions:\n",
    "    print(\"Регион выбран неправильно, попробуйте еще раз\")\n",
    "else:\n",
    "    filtered_data = demography_data[demography_data['region'] == chosen_country]\n",
    "    print(f\"\\nДанные, по которым будет производиться расчет: \\n{filtered_data}\")\n",
    "    \n",
    "    X_train, X_test, y_train, y_test = train_test_split(filtered_data[['year']], filtered_data[chosen_column], test_size=0.9, random_state=0)\n",
    "    \n",
    "    lr = LinearRegression()\n",
    "    lr.fit(X_train, y_train)\n",
    "    x_pred = lr.predict(X_test)\n",
    "    pred_value = lr.predict(pandas.DataFrame({'year': [prediction_year]}))"
   ]
  },
  {
   "cell_type": "markdown",
   "id": "6f0218b9-3e0c-4247-b363-61f93f0a20bc",
   "metadata": {},
   "source": [
    "Вывод графика "
   ]
  },
  {
   "cell_type": "code",
   "execution_count": 20,
   "id": "f97dbd1c-1b2d-4930-9a08-dbb015777acd",
   "metadata": {
    "scrolled": false
   },
   "outputs": [
    {
     "data": {
      "image/png": "[encoded data removed]",
      "text/plain": [
       "<Figure size 720x504 with 1 Axes>"
      ]
     },
     "metadata": {
      "needs_background": "light"
     },
     "output_type": "display_data"
    }
   ],
   "source": [
    "import matplotlib.pyplot as plt\n",
    "\n",
    "\n",
    "\n",
    "sorted_filtered_data = filtered_data.sort_values('year')\n",
    "\n",
    "plt.figure(figsize = (10, 7))\n",
    "\n",
    "plt.plot(sorted_filtered_data.year, sorted_filtered_data[chosen_column], \"-o\", color = 'pink')\n",
    "plt.plot(X_test, x_pred, \"-\", color = 'black')\n",
    "plt.scatter(prediction_year, pred_value)\n",
    "plt.annotate(f\"{prediction_year}, {pred_value}\", xy=(prediction_year, pred_value), xytext=(prediction_year - 1, pred_value + 1))\n",
    "\n",
    "plt.title(f'Предсказание {chosen_column} по региону {chosen_country}')\n",
    "plt.xlabel(\"Годы\")\n",
    "plt.ylabel(f\"Значения {chosen_column}\")\n",
    "plt.grid(True)"
   ]
  },
  {
   "cell_type": "code",
   "execution_count": null,
   "id": "c8222c85",
   "metadata": {},
   "outputs": [],
   "source": []
  }
 ],
 "metadata": {
  "kernelspec": {
   "display_name": "Python 3 (ipykernel)",
   "language": "python",
   "name": "python3"
  },
  "language_info": {
   "codemirror_mode": {
    "name": "ipython",
    "version": 3
   },
   "file_extension": ".py",
   "mimetype": "text/x-python",
   "name": "python",
   "nbconvert_exporter": "python",
   "pygments_lexer": "ipython3",
   "version": "3.10.12"
  }
 },
 "nbformat": 4,
 "nbformat_minor": 5
}
