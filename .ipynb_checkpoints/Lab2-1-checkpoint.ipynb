{
 "cells": [
  {
   "cell_type": "markdown",
   "id": "4d0d9154",
   "metadata": {},
   "source": [
    "Установка необходимых библиотек (если не установлены)"
   ]
  },
  {
   "cell_type": "code",
   "execution_count": 2,
   "id": "d0431d68",
   "metadata": {
    "scrolled": true
   },
   "outputs": [
    {
     "name": "stdout",
     "output_type": "stream",
     "text": [
      "Defaulting to user installation because normal site-packages is not writeable\n",
      "Requirement already satisfied: pandas in /home/ataev/.local/lib/python3.10/site-packages (2.1.1)\n",
      "Requirement already satisfied: numpy>=1.22.4 in /home/ataev/.local/lib/python3.10/site-packages (from pandas) (1.26.0)\n",
      "Requirement already satisfied: python-dateutil>=2.8.2 in /usr/local/lib/python3.10/dist-packages (from pandas) (2.8.2)\n",
      "Requirement already satisfied: pytz>=2020.1 in /usr/lib/python3/dist-packages (from pandas) (2022.1)\n",
      "Requirement already satisfied: tzdata>=2022.1 in /home/ataev/.local/lib/python3.10/site-packages (from pandas) (2023.3)\n",
      "Requirement already satisfied: six>=1.5 in /usr/lib/python3/dist-packages (from python-dateutil>=2.8.2->pandas) (1.16.0)\n",
      "\u001b[33mDEPRECATION: distro-info 1.1build1 has a non-standard version number. pip 23.3 will enforce this behaviour change. A possible replacement is to upgrade to a newer version of distro-info or contact the author to suggest that they release a version with a conforming version number. Discussion can be found at https://github.com/pypa/pip/issues/12063\u001b[0m\u001b[33m\n",
      "\u001b[0m\u001b[33mDEPRECATION: gpg 1.16.0-unknown has a non-standard version number. pip 23.3 will enforce this behaviour change. A possible replacement is to upgrade to a newer version of gpg or contact the author to suggest that they release a version with a conforming version number. Discussion can be found at https://github.com/pypa/pip/issues/12063\u001b[0m\u001b[33m\n",
      "\u001b[0mDefaulting to user installation because normal site-packages is not writeable\n",
      "Requirement already satisfied: matplotlib in /home/ataev/.local/lib/python3.10/site-packages (3.8.0)\n",
      "Requirement already satisfied: contourpy>=1.0.1 in /home/ataev/.local/lib/python3.10/site-packages (from matplotlib) (1.1.1)\n",
      "Requirement already satisfied: cycler>=0.10 in /home/ataev/.local/lib/python3.10/site-packages (from matplotlib) (0.11.0)\n",
      "Requirement already satisfied: fonttools>=4.22.0 in /home/ataev/.local/lib/python3.10/site-packages (from matplotlib) (4.42.1)\n",
      "Requirement already satisfied: kiwisolver>=1.0.1 in /home/ataev/.local/lib/python3.10/site-packages (from matplotlib) (1.4.5)\n",
      "Requirement already satisfied: numpy<2,>=1.21 in /home/ataev/.local/lib/python3.10/site-packages (from matplotlib) (1.26.0)\n",
      "Requirement already satisfied: packaging>=20.0 in /usr/local/lib/python3.10/dist-packages (from matplotlib) (21.3)\n",
      "Requirement already satisfied: pillow>=6.2.0 in /usr/lib/python3/dist-packages (from matplotlib) (9.0.1)\n",
      "Requirement already satisfied: pyparsing>=2.3.1 in /usr/lib/python3/dist-packages (from matplotlib) (2.4.7)\n",
      "Requirement already satisfied: python-dateutil>=2.7 in /usr/local/lib/python3.10/dist-packages (from matplotlib) (2.8.2)\n",
      "Requirement already satisfied: six>=1.5 in /usr/lib/python3/dist-packages (from python-dateutil>=2.7->matplotlib) (1.16.0)\n",
      "\u001b[33mDEPRECATION: distro-info 1.1build1 has a non-standard version number. pip 23.3 will enforce this behaviour change. A possible replacement is to upgrade to a newer version of distro-info or contact the author to suggest that they release a version with a conforming version number. Discussion can be found at https://github.com/pypa/pip/issues/12063\u001b[0m\u001b[33m\n",
      "\u001b[0m\u001b[33mDEPRECATION: gpg 1.16.0-unknown has a non-standard version number. pip 23.3 will enforce this behaviour change. A possible replacement is to upgrade to a newer version of gpg or contact the author to suggest that they release a version with a conforming version number. Discussion can be found at https://github.com/pypa/pip/issues/12063\u001b[0m\u001b[33m\n",
      "\u001b[0m"
     ]
    }
   ],
   "source": [
    "!pip install pandas\n",
    "!pip install matplotlib"
   ]
  },
  {
   "cell_type": "markdown",
   "id": "0fcfd4ad",
   "metadata": {},
   "source": [
    "Считывание файла"
   ]
  },
  {
   "cell_type": "code",
   "execution_count": 8,
   "id": "717db032",
   "metadata": {
    "scrolled": true
   },
   "outputs": [
    {
     "name": "stdout",
     "output_type": "stream",
     "text": [
      "False\n",
      "False\n",
      "          Company_Name                ship_name  built_year      gt     dwt  \\\n",
      "0              PRELUDE  Offshore Support Vessel        2017  499167  394330   \n",
      "1           MSC LORETO           Container Ship        2023  236184  240000   \n",
      "2             MSC FEBE           Container Ship        2019  232618  228149   \n",
      "3            MSC ARINA           Container Ship        2019  228741  228111   \n",
      "4          EVER GOVERN           Container Ship        2019  219688  198937   \n",
      "..                 ...                      ...         ...     ...     ...   \n",
      "195          HONORSHIP             Bulk Carrier        2010   90423  180242   \n",
      "196  MARAN TRANSPORTER             Bulk Carrier        2010   90136  179719   \n",
      "197   MARAN ASTRONOMER             Bulk Carrier        2012   90104  179719   \n",
      "198    WINNING LOYALTY             Bulk Carrier        2004   90091  180310   \n",
      "199       BRAVE SAILOR             Bulk Carrier        2011   89991  176283   \n",
      "\n",
      "     length  width  \n",
      "0       489     74  \n",
      "1       399     60  \n",
      "2       400     62  \n",
      "3       400     61  \n",
      "4       400     59  \n",
      "..      ...    ...  \n",
      "195     289     45  \n",
      "196     292     45  \n",
      "197     292     45  \n",
      "198     289     45  \n",
      "199     292     45  \n",
      "\n",
      "[200 rows x 7 columns]\n"
     ]
    }
   ],
   "source": [
    "import pandas\n",
    "import os\n",
    "file_path = \"/home/ataev/Рабочий стол/Labs/Lab2/Cleaned_ships_data.csv\"\n",
    "ram_capacity = 2**20\n",
    "\n",
    "if file_path.endswith('.csv') and os.path.isfile(file_path) and os.path.getsize(file_path) <= ram_capacity:\n",
    "    data = pandas.read_csv(file_path)\n",
    "\n",
    "if not data.empty and not data.isnull().values.any():\n",
    "    print(data)\n",
    "else:\n",
    "    print(\"БИТЫЙ ФАЙЛ\")"
   ]
  },
  {
   "cell_type": "markdown",
   "id": "d6c0617f",
   "metadata": {},
   "source": [
    "2D-график зависиости грузоподъемности от длины"
   ]
  },
  {
   "cell_type": "code",
   "execution_count": 25,
   "id": "7b090232",
   "metadata": {
    "scrolled": true
   },
   "outputs": [
    {
     "data": {
      "image/png": "[encoded data removed]",
      "text/plain": [
       "<Figure size 432x288 with 1 Axes>"
      ]
     },
     "metadata": {
      "needs_background": "light"
     },
     "output_type": "display_data"
    }
   ],
   "source": [
    "import matplotlib.pyplot as mp\n",
    "\n",
    "data1 = data.sort_values('length')\n",
    "mp.xlabel(\"Длина коробля\")\n",
    "mp.ylabel(\"Грузоподъемность\")\n",
    "mp.plot(data1.length, data1.dwt)\n",
    "mp.show()"
   ]
  },
  {
   "cell_type": "markdown",
   "id": "a7969fe5",
   "metadata": {},
   "source": [
    "Распределение кораблей по типу"
   ]
  },
  {
   "cell_type": "code",
   "execution_count": 1,
   "id": "a9a90ef9",
   "metadata": {},
   "outputs": [
    {
     "ename": "NameError",
     "evalue": "name 'data' is not defined",
     "output_type": "error",
     "traceback": [
      "\u001b[0;31m---------------------------------------------------------------------------\u001b[0m",
      "\u001b[0;31mNameError\u001b[0m                                 Traceback (most recent call last)",
      "Input \u001b[0;32mIn [1]\u001b[0m, in \u001b[0;36m<cell line: 3>\u001b[0;34m()\u001b[0m\n\u001b[1;32m      1\u001b[0m \u001b[38;5;28;01mimport\u001b[39;00m \u001b[38;5;21;01mmatplotlib\u001b[39;00m\u001b[38;5;21;01m.\u001b[39;00m\u001b[38;5;21;01mpyplot\u001b[39;00m \u001b[38;5;28;01mas\u001b[39;00m \u001b[38;5;21;01mmp\u001b[39;00m\n\u001b[0;32m----> 3\u001b[0m listOfNames \u001b[38;5;241m=\u001b[39m \u001b[43mdata\u001b[49m\u001b[38;5;241m.\u001b[39mship_name\n\u001b[1;32m      5\u001b[0m namesWithCount \u001b[38;5;241m=\u001b[39m listOfNames\u001b[38;5;241m.\u001b[39mvalue_counts()\n\u001b[1;32m      7\u001b[0m mp\u001b[38;5;241m.\u001b[39mxlabel(\u001b[38;5;124m\"\u001b[39m\u001b[38;5;124mКоличество\u001b[39m\u001b[38;5;124m\"\u001b[39m)\n",
      "\u001b[0;31mNameError\u001b[0m: name 'data' is not defined"
     ]
    }
   ],
   "source": [
    "import matplotlib.pyplot as mp\n",
    "\n",
    "listOfNames = data.ship_name\n",
    "\n",
    "namesWithCount = listOfNames.value_counts()\n",
    "\n",
    "mp.xlabel(\"Количество\")\n",
    "mp.ylabel(\"Вид корабля\")\n",
    "mp.plot(namesWithCount)\n",
    "mp.show()"
   ]
  },
  {
   "cell_type": "code",
   "execution_count": null,
   "id": "79a48d85",
   "metadata": {},
   "outputs": [],
   "source": []
  }
 ],
 "metadata": {
  "kernelspec": {
   "display_name": "Python 3 (ipykernel)",
   "language": "python",
   "name": "python3"
  },
  "language_info": {
   "codemirror_mode": {
    "name": "ipython",
    "version": 3
   },
   "file_extension": ".py",
   "mimetype": "text/x-python",
   "name": "python",
   "nbconvert_exporter": "python",
   "pygments_lexer": "ipython3",
   "version": "3.10.12"
  }
 },
 "nbformat": 4,
 "nbformat_minor": 5
}
